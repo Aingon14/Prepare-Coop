{
  "nbformat": 4,
  "nbformat_minor": 0,
  "metadata": {
    "colab": {
      "provenance": [],
      "toc_visible": true,
      "authorship_tag": "ABX9TyMM1MFN8bMjFdl/iCq38afG",
      "include_colab_link": true
    },
    "kernelspec": {
      "name": "python3",
      "display_name": "Python 3"
    },
    "language_info": {
      "name": "python"
    }
  },
  "cells": [
    {
      "cell_type": "markdown",
      "metadata": {
        "id": "view-in-github",
        "colab_type": "text"
      },
      "source": [
        "<a href=\"https://colab.research.google.com/github/Aingon14/Prepare-Coop/blob/main/Web_scraping_1.ipynb\" target=\"_parent\"><img src=\"https://colab.research.google.com/assets/colab-badge.svg\" alt=\"Open In Colab\"/></a>"
      ]
    },
    {
      "cell_type": "markdown",
      "source": [
        "# ลองดึงข้อมูลจากเว็บรีวิวภาพยนตร์"
      ],
      "metadata": {
        "id": "O1TeAw5k8oR7"
      }
    },
    {
      "cell_type": "markdown",
      "source": [
        "## ชื่อหนังที่เคยรีวิว"
      ],
      "metadata": {
        "id": "NzZoI-ilXkQ-"
      }
    },
    {
      "cell_type": "code",
      "source": [
        "from google.colab import drive\n",
        "drive.mount('/content/drive')"
      ],
      "metadata": {
        "colab": {
          "base_uri": "https://localhost:8080/"
        },
        "id": "d1XXy0l8-E6J",
        "outputId": "e52e395d-101f-4cf0-df8f-b30b8e3bfbcf"
      },
      "execution_count": 6,
      "outputs": [
        {
          "output_type": "stream",
          "name": "stdout",
          "text": [
            "Mounted at /content/drive\n"
          ]
        }
      ]
    },
    {
      "cell_type": "code",
      "source": [
        "import requests\n",
        "from bs4 import BeautifulSoup"
      ],
      "metadata": {
        "id": "17VcKtho8nlV"
      },
      "execution_count": 7,
      "outputs": []
    },
    {
      "cell_type": "code",
      "source": [
        "url = 'https://entertainment.trueid.net/movie_review'\n",
        "html = requests.get(url)"
      ],
      "metadata": {
        "id": "QrPVOGNR85_6"
      },
      "execution_count": 19,
      "outputs": []
    },
    {
      "cell_type": "code",
      "execution_count": 12,
      "metadata": {
        "id": "mVLhbvFy8XYy"
      },
      "outputs": [],
      "source": [
        "s = BeautifulSoup(html.content, 'html.parser')"
      ]
    },
    {
      "cell_type": "code",
      "source": [
        "descrip = s.find(id='__next')"
      ],
      "metadata": {
        "id": "inPmg6VD_jcH"
      },
      "execution_count": 24,
      "outputs": []
    },
    {
      "cell_type": "code",
      "source": [
        "movie_title = descrip.find_all('h3', class_='style__Title-sc-vtj3ro-7 irvltl')"
      ],
      "metadata": {
        "id": "RAzUNLCYHQXL"
      },
      "execution_count": 25,
      "outputs": []
    },
    {
      "cell_type": "code",
      "source": [
        "for movie in movie_title:\n",
        "  print(movie.text)"
      ],
      "metadata": {
        "colab": {
          "base_uri": "https://localhost:8080/"
        },
        "id": "aIscrobfOfap",
        "outputId": "148d7c7b-5dd6-4389-8f6d-26f3c26d102f"
      },
      "execution_count": 28,
      "outputs": [
        {
          "output_type": "stream",
          "name": "stdout",
          "text": [
            "รีวิวหนัง \"Space Cadet สาวแสบซ่า ท้าอวกาศ\" หนังใหม่ปี 2024 แต่จริตแบบปี 2004\n",
            "รีวิวหนัง \"Despicable Me 4 มิสเตอร์แสบ ร้ายเกินพิกัด 4\" อรรถรสที่สร้างต่ออีกร้อยปีก็ยังได้\n",
            "รีวิวหนัง \"Beverly Hills Cop: Axel F โปลิศจับตำรวจ 4\" อีกหนึ่งตำนานสู่การกลับมาหากินของที่คุ้นเคย\n",
            "รีวิวหนัง \"Uranus2324\" ไซไฟอวกาศไทย ๆ ชวนตื่นตา กับความอลังการที่ยังไม่สมดุล\n",
            "รีวิวหนัง \"Night Swim ค่ำคืนอย่าแหวกว่าย\" สระว่ายน้ำที่จะทำเราหลอน..กี่โมง?\n",
            "รีวิวซีรีส์จีน \"The Legend of Heroes มังกรหยก 2024 ภาค ผู้ภักดีเลือดเหล็ก\" สนุกกระชับ สมการรอคอย!\n",
            "รีวิวหนัง \"A Family Affair เรื่อง(รัก)ในครอบครัว\" รอมคอมเบอร์เฉิ่ม มีดีตรงที่ดาราเอลิสต์\n",
            "รีวิวหนัง \"A Quiet Place: Day One ดินแดนไร้เสียง: วันที่หนึ่ง\" ภาคที่เสียงเงียบอึกทึกที่สุด\n",
            "รีวิวหนัง \"The Bikeriders เดอะ ไบค์ไรเดอร์ส\" ดื่มด่ำกับโฟร์คิงส์ฉบับอเมริกันชายฉกรรจ์\n",
            "[รีวิวซีรีส์] House of the Dragon ซีซัน 2 ตอน 1-4 แค้นสะเทือนไต โหดตั้งแต่ออกสตาร์ท\n",
            "รีวิวหนัง \"Trigger Warning ลั่นไกเตือน\" มัมก็คือมัม เจสสิกา อัลบา แม่กลับมาแล้ว\n",
            "รีวิวหนัง \"Kleks Academy โรงเรียนมายาคุณเคล็กซ์\" แฟนตาซีฉบับดูไม่แพงจากโปแลนด์\n",
            "รีวิวหนัง \"Space Cadet สาวแสบซ่า ท้าอวกาศ\" หนังใหม่ปี 2024 แต่จริตแบบปี 2004\n",
            "รีวิวหนัง \"Despicable Me 4 มิสเตอร์แสบ ร้ายเกินพิกัด 4\" อรรถรสที่สร้างต่ออีกร้อยปีก็ยังได้\n",
            "รีวิวหนัง \"Beverly Hills Cop: Axel F โปลิศจับตำรวจ 4\" อีกหนึ่งตำนานสู่การกลับมาหากินของที่คุ้นเคย\n",
            "รีวิวหนัง \"Uranus2324\" ไซไฟอวกาศไทย ๆ ชวนตื่นตา กับความอลังการที่ยังไม่สมดุล\n",
            "รีวิวหนัง \"Night Swim ค่ำคืนอย่าแหวกว่าย\" สระว่ายน้ำที่จะทำเราหลอน..กี่โมง?\n",
            "รีวิวซีรีส์จีน \"The Legend of Heroes มังกรหยก 2024 ภาค ผู้ภักดีเลือดเหล็ก\" สนุกกระชับ สมการรอคอย!\n",
            "รีวิวหนัง \"A Family Affair เรื่อง(รัก)ในครอบครัว\" รอมคอมเบอร์เฉิ่ม มีดีตรงที่ดาราเอลิสต์\n",
            "รีวิวหนัง \"A Quiet Place: Day One ดินแดนไร้เสียง: วันที่หนึ่ง\" ภาคที่เสียงเงียบอึกทึกที่สุด\n",
            "รีวิวหนัง \"The Bikeriders เดอะ ไบค์ไรเดอร์ส\" ดื่มด่ำกับโฟร์คิงส์ฉบับอเมริกันชายฉกรรจ์\n",
            "[รีวิวซีรีส์] House of the Dragon ซีซัน 2 ตอน 1-4 แค้นสะเทือนไต โหดตั้งแต่ออกสตาร์ท\n",
            "รีวิวหนัง \"Trigger Warning ลั่นไกเตือน\" มัมก็คือมัม เจสสิกา อัลบา แม่กลับมาแล้ว\n",
            "รีวิวหนัง \"Kleks Academy โรงเรียนมายาคุณเคล็กซ์\" แฟนตาซีฉบับดูไม่แพงจากโปแลนด์\n"
          ]
        }
      ]
    },
    {
      "cell_type": "markdown",
      "source": [
        "# ลองดึงข้อมูลราคาบ้าน ในละแวกต่างๆ"
      ],
      "metadata": {
        "id": "cPq_YiMvPQVN"
      }
    },
    {
      "cell_type": "code",
      "source": [],
      "metadata": {
        "id": "cuoC_jBPPbM8"
      },
      "execution_count": null,
      "outputs": []
    },
    {
      "cell_type": "code",
      "source": [],
      "metadata": {
        "id": "EBReUtIUPbqK"
      },
      "execution_count": null,
      "outputs": []
    },
    {
      "cell_type": "code",
      "source": [],
      "metadata": {
        "id": "H3CSlgjpPbmw"
      },
      "execution_count": null,
      "outputs": []
    }
  ]
}